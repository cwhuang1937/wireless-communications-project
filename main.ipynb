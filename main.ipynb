{
 "cells": [
  {
   "cell_type": "code",
   "execution_count": 1,
   "metadata": {},
   "outputs": [],
   "source": [
    "import random\n",
    "import math\n",
    "import time\n",
    "import matplotlib.pyplot as plt"
   ]
  },
  {
   "cell_type": "code",
   "execution_count": 2,
   "metadata": {},
   "outputs": [],
   "source": [
    "def decide_turn(x, y, vx, vy):\n",
    "     \n",
    "    if x == 0 and y == 0 and vx == -1:\n",
    "        vx = 0\n",
    "        vy = 1\n",
    "    elif x == 0 and y == 0 and vy == -1:\n",
    "        vx = 1\n",
    "        vy = 0\n",
    "    elif x == 3000 and y == 0 and vx == 1:\n",
    "        vx = 0\n",
    "        vy = 1\n",
    "    elif x == 3000 and y == 0 and vy == -1:\n",
    "        vx = -1\n",
    "        vy = 0\n",
    "    elif x == 0 and y == 3000 and vx == -1:\n",
    "        vx = 0\n",
    "        vy = -1\n",
    "    elif x == 0 and y == 3000 and vy == 1:\n",
    "        vx = 1\n",
    "        vy = 0\n",
    "    elif x == 3000 and y == 3000 and vx == 1:\n",
    "        vx = 0\n",
    "        vy = -1\n",
    "    elif x == 3000 and y == 3000 and vy == 1:\n",
    "        vx = -1\n",
    "        vy = 0\n",
    "    else:\n",
    "        p = random.random()\n",
    "        if p >= 0.5:\n",
    "            return vx, vy\n",
    "        elif p >= 1/3 and p < 0.5:\n",
    "            if vx == 1 and vy == 0:\n",
    "                vx = 0\n",
    "                vy = -1\n",
    "            elif vx == 0 and vy == 1:\n",
    "                vx = 1\n",
    "                vy = 0\n",
    "            elif vx == -1 and vy == 0:\n",
    "                vx = 0\n",
    "                vy = 1\n",
    "            else:\n",
    "                vx = -1\n",
    "                vy = 0          \n",
    "        else:\n",
    "            if vx == 1 and vy == 0:\n",
    "                vx = 0\n",
    "                vy = 1\n",
    "            elif vx == 0 and vy == 1:\n",
    "                vx = -1\n",
    "                vy = 0\n",
    "            elif vx == -1 and vy == 0:\n",
    "                vx = 0\n",
    "                vy = -1\n",
    "            else:\n",
    "                vx = 1\n",
    "                vy = 0   \n",
    "    \n",
    "    return vx, vy\n",
    "        "
   ]
  },
  {
   "cell_type": "code",
   "execution_count": 3,
   "metadata": {},
   "outputs": [],
   "source": [
    "def create_car(x, y, vx, vy, bs):\n",
    "    global n\n",
    "    if(random.random() > P):\n",
    "        return\n",
    "    \n",
    "    vx, vy = decide_turn(x, y, vx, vy)\n",
    "    \n",
    "    \n",
    "    cars.append((x, y, vx, vy, bs, bs, bs, bs))\n",
    "    \n",
    "    n = n + 1\n",
    "\n",
    "\n"
   ]
  },
  {
   "cell_type": "code",
   "execution_count": 4,
   "metadata": {},
   "outputs": [],
   "source": [
    "def cal_power(d):\n",
    "    if d == 0:\n",
    "        temp = -60\n",
    "    else:\n",
    "        temp = (-60 - 20*math.log10(d))\n",
    "        \n",
    "    return temp\n"
   ]
  },
  {
   "cell_type": "code",
   "execution_count": 6,
   "metadata": {},
   "outputs": [
    {
     "name": "stdout",
     "output_type": "stream",
     "text": [
      "Fri Nov 15 21:46:02 2019\n",
      "[0, 0, 0, 0]\n",
      "[4627, 4627, 4617, 2796]\n",
      "[9421, 9421, 9404, 5698]\n",
      "[14259, 14259, 14240, 8669]\n",
      "[19099, 19099, 19075, 11574]\n",
      "[23951, 23951, 23934, 14541]\n",
      "[28714, 28714, 28701, 17364]\n",
      "[33389, 33389, 33376, 20217]\n",
      "[37955, 37955, 37942, 22979]\n",
      "[40991, 40991, 40975, 24797]\n",
      "Fri Nov 15 21:49:57 2019\n"
     ]
    }
   ],
   "source": [
    "E = 5\n",
    "T = -110\n",
    "Pt = -50\n",
    "Pmin = -125\n",
    "v_car = 10\n",
    "P = (2 / 60) * math.exp(-(2 / 60))\n",
    "road_len = 750\n",
    "BS = ((750, 750), (2250, 750), (750, 2250), (2250, 2250))\n",
    "cars = []\n",
    "n = 0\n",
    "handoff = 4*[0]\n",
    "Y = [[], [], [], []]\n",
    "P_int1 = cal_power(750)\n",
    "P_int2 = cal_power(750*(2**(1/2)))\n",
    "\n",
    "print(time.asctime(time.localtime(time.time())))\n",
    "\n",
    "# create_car(road_len, 0, 0, 1, 0, P_int1) # create cars\n",
    "for i in range(86400):\n",
    "    leave_cars = []\n",
    "    \n",
    "    if i % 10000 == 0:\n",
    "        print(handoff)\n",
    "        \n",
    "    create_car(road_len, 0, 0, 1, 0) # create cars\n",
    "    create_car(road_len*2, 0, 0, 1, 0)\n",
    "    create_car(road_len*3, 0, 0, 1, 1)\n",
    "    create_car(0, road_len, 1, 0, 0)\n",
    "    create_car(0, road_len*2, 1, 0, 0)\n",
    "    create_car(0, road_len*3, 1, 0, 2)\n",
    "    create_car(road_len, road_len*4, 0, -1, 2)\n",
    "    create_car(road_len*2, road_len*4, 0, -1, 2)\n",
    "    create_car(road_len*3, road_len*4, 0, -1, 3)\n",
    "    create_car(road_len*4, road_len, -1, 0, 1)\n",
    "    create_car(road_len*4, road_len*2, -1, 0, 1)\n",
    "    create_car(road_len*4, road_len*3, -1, 0, 3)\n",
    "    \n",
    "    for id in range(len(cars)): # moving car\n",
    "        attr = cars[id] \n",
    "        x = attr[0] + v_car*attr[2]\n",
    "        y = attr[1] + v_car*attr[3]\n",
    "        vx = attr[2]\n",
    "        vy = attr[3]\n",
    "        policy1 = attr[4]\n",
    "        policy2 = attr[5]\n",
    "        policy3 = attr[6]\n",
    "        policy4 = attr[7]\n",
    "        \n",
    "        # car leaving\n",
    "        if x > 3000 or x < 0 or y > 3000 or y < 0: \n",
    "            leave_cars.append(id)\n",
    "            continue\n",
    "            \n",
    "        # car turning\n",
    "        if x%750 == 0 and y%750 == 0: \n",
    "            vx, vy = decide_turn(x, y, vx, vy)\n",
    "            \n",
    "        P_new = -1000\n",
    "        P_old = 4*[-1000]\n",
    "        BS_max = -1\n",
    "        for j in range(4):\n",
    "            d = ((x-BS[j][0])**2 + (y-BS[j][1])**2)**(1/2)\n",
    "            P_temp = cal_power(d)\n",
    "            if j == policy1:\n",
    "                P_old[0] = P_temp   \n",
    "            if j == policy2:\n",
    "                P_old[1] = P_temp   \n",
    "            if j == policy3:\n",
    "                P_old[2] = P_temp   \n",
    "            if j == policy4:\n",
    "                P_old[3] = P_temp   \n",
    "                \n",
    "            if P_temp > P_new:\n",
    "                P_new = P_temp\n",
    "                BS_max = j\n",
    "\n",
    "        # policy 1\n",
    "        if BS_max != policy1 and P_new > P_old[0]:\n",
    "            handoff[0] = handoff[0] + 1\n",
    "            policy1 = BS_max\n",
    "\n",
    "\n",
    "                 \n",
    "        # policy 2\n",
    "        if BS_max != policy2 and P_new > P_old[1] and P_old[1] < T:\n",
    "            handoff[1] = handoff[1] + 1\n",
    "            policy2 = BS_max\n",
    "\n",
    "                \n",
    "        # policy 3\n",
    "        if BS_max != policy3 and P_new > P_old[2] + E:\n",
    "            handoff[2] = handoff[2] + 1\n",
    "            policy3 = BS_max\n",
    "                \n",
    "        # policy 4\n",
    "        if BS_max != policy4 and P_new > P_old[3] and P_old[3] < Pmin:\n",
    "            handoff[3] = handoff[3] + 1\n",
    "            policy4 = BS_max\n",
    "    \n",
    "        cars[id] = (x, y, vx, vy, policy1, policy2, policy3, policy4)\n",
    "    \n",
    "    leave_cars.sort(reverse=True)\n",
    "    for id in leave_cars: # leaving car\n",
    "        del cars[id]\n",
    "        \n",
    "    for k in range(4):\n",
    "        Y[k].append(handoff[k])\n",
    "        \n",
    "\n",
    "print(handoff)\n",
    "print(time.asctime(time.localtime(time.time())))\n",
    "    \n",
    "    \n",
    "        \n",
    "    \n",
    "    "
   ]
  },
  {
   "cell_type": "code",
   "execution_count": 47,
   "metadata": {},
   "outputs": [
    {
     "data": {
      "image/png": "[encoded data removed]",
      "text/plain": [
       "<Figure size 720x720 with 1 Axes>"
      ]
     },
     "metadata": {
      "needs_background": "light"
     },
     "output_type": "display_data"
    }
   ],
   "source": [
    "X = list(range(86400))\n",
    "\n",
    "plt.figure(1, figsize=(50, 50))\n",
    "plt.plot(X, Y[0], 'b-.', label='Best Policy')\n",
    "plt.plot(X, Y[1], 'r--', label='Threshold Policy')\n",
    "plt.plot(X, Y[2], 'c', label='Entropy Policy')\n",
    "plt.plot(X, Y[3], 'm', label='My Policy')\n",
    "plt.xlabel('time(s)')\n",
    "plt.ylabel('Handoff')\n",
    "plt.legend()\n",
    "plt.show()"
   ]
  },
  {
   "cell_type": "code",
   "execution_count": 27,
   "metadata": {},
   "outputs": [
    {
     "data": {
      "text/plain": [
       "11574"
      ]
     },
     "execution_count": 27,
     "metadata": {},
     "output_type": "execute_result"
    }
   ],
   "source": [
    "Y[3][40000]"
   ]
  },
  {
   "cell_type": "code",
   "execution_count": 9,
   "metadata": {},
   "outputs": [
    {
     "name": "stdout",
     "output_type": "stream",
     "text": [
      "180\n",
      "33473\n"
     ]
    }
   ],
   "source": [
    "print(len(cars))\n",
    "print(n)\n"
   ]
  },
  {
   "cell_type": "code",
   "execution_count": 4,
   "metadata": {},
   "outputs": [
    {
     "name": "stdout",
     "output_type": "stream",
     "text": [
      "Policy5: dfdf\n"
     ]
    }
   ],
   "source": [
    "a = 5\n",
    "b = 'dfdf'\n",
    "\n",
    "print('Policy{}: {}'.format(a, b))"
   ]
  },
  {
   "cell_type": "code",
   "execution_count": null,
   "metadata": {},
   "outputs": [],
   "source": []
  }
 ],
 "metadata": {
  "kernelspec": {
   "display_name": "Python 3",
   "language": "python",
   "name": "python3"
  },
  "language_info": {
   "codemirror_mode": {
    "name": "ipython",
    "version": 3
   },
   "file_extension": ".py",
   "mimetype": "text/x-python",
   "name": "python",
   "nbconvert_exporter": "python",
   "pygments_lexer": "ipython3",
   "version": "3.7.1"
  }
 },
 "nbformat": 4,
 "nbformat_minor": 2
}
